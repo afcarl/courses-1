{
 "cells": [
  {
   "cell_type": "markdown",
   "metadata": {},
   "source": [
    "# Softmax exercise\n",
    "\n",
    "*Complete and hand in this completed worksheet (including its outputs and any supporting code outside of the worksheet) with your assignment submission. For more details see the [assignments page](http://vision.stanford.edu/teaching/cs231n/assignments.html) on the course website.*\n",
    "\n",
    "This exercise is analogous to the SVM exercise. You will:\n",
    "\n",
    "- implement a fully-vectorized **loss function** for the Softmax classifier\n",
    "- implement the fully-vectorized expression for its **analytic gradient**\n",
    "- **check your implementation** with numerical gradient\n",
    "- use a validation set to **tune the learning rate and regularization** strength\n",
    "- **optimize** the loss function with **SGD**\n",
    "- **visualize** the final learned weights\n"
   ]
  },
  {
   "cell_type": "code",
   "execution_count": 1,
   "metadata": {
    "collapsed": false
   },
   "outputs": [],
   "source": [
    "import random\n",
    "import numpy as np\n",
    "from cs231n.data_utils import load_CIFAR10\n",
    "import matplotlib.pyplot as plt\n",
    "\n",
    "from __future__ import print_function\n",
    "\n",
    "%matplotlib inline\n",
    "plt.rcParams['figure.figsize'] = (10.0, 8.0) # set default size of plots\n",
    "plt.rcParams['image.interpolation'] = 'nearest'\n",
    "plt.rcParams['image.cmap'] = 'gray'\n",
    "\n",
    "# for auto-reloading extenrnal modules\n",
    "# see http://stackoverflow.com/questions/1907993/autoreload-of-modules-in-ipython\n",
    "%load_ext autoreload\n",
    "%autoreload 2"
   ]
  },
  {
   "cell_type": "code",
   "execution_count": 2,
   "metadata": {
    "collapsed": false
   },
   "outputs": [
    {
     "name": "stdout",
     "output_type": "stream",
     "text": [
      "Train data shape:  (49000, 3073)\n",
      "Train labels shape:  (49000,)\n",
      "Validation data shape:  (1000, 3073)\n",
      "Validation labels shape:  (1000,)\n",
      "Test data shape:  (1000, 3073)\n",
      "Test labels shape:  (1000,)\n",
      "dev data shape:  (500, 3073)\n",
      "dev labels shape:  (500,)\n"
     ]
    }
   ],
   "source": [
    "def get_CIFAR10_data(num_training=49000, num_validation=1000, num_test=1000, num_dev=500):\n",
    "    \"\"\"\n",
    "    Load the CIFAR-10 dataset from disk and perform preprocessing to prepare\n",
    "    it for the linear classifier. These are the same steps as we used for the\n",
    "    SVM, but condensed to a single function.  \n",
    "    \"\"\"\n",
    "    # Load the raw CIFAR-10 data\n",
    "    cifar10_dir = 'cs231n/datasets/cifar-10-batches-py'\n",
    "    X_train, y_train, X_test, y_test = load_CIFAR10(cifar10_dir)\n",
    "    \n",
    "    # subsample the data\n",
    "    mask = list(range(num_training, num_training + num_validation))\n",
    "    X_val = X_train[mask]\n",
    "    y_val = y_train[mask]\n",
    "    mask = list(range(num_training))\n",
    "    X_train = X_train[mask]\n",
    "    y_train = y_train[mask]\n",
    "    mask = list(range(num_test))\n",
    "    X_test = X_test[mask]\n",
    "    y_test = y_test[mask]\n",
    "    mask = np.random.choice(num_training, num_dev, replace=False)\n",
    "    X_dev = X_train[mask]\n",
    "    y_dev = y_train[mask]\n",
    "    \n",
    "    # Preprocessing: reshape the image data into rows\n",
    "    X_train = np.reshape(X_train, (X_train.shape[0], -1))\n",
    "    X_val = np.reshape(X_val, (X_val.shape[0], -1))\n",
    "    X_test = np.reshape(X_test, (X_test.shape[0], -1))\n",
    "    X_dev = np.reshape(X_dev, (X_dev.shape[0], -1))\n",
    "    \n",
    "    # Normalize the data: subtract the mean image\n",
    "    mean_image = np.mean(X_train, axis = 0)\n",
    "    X_train -= mean_image\n",
    "    X_val -= mean_image\n",
    "    X_test -= mean_image\n",
    "    X_dev -= mean_image\n",
    "    \n",
    "    # add bias dimension and transform into columns\n",
    "    X_train = np.hstack([X_train, np.ones((X_train.shape[0], 1))])\n",
    "    X_val = np.hstack([X_val, np.ones((X_val.shape[0], 1))])\n",
    "    X_test = np.hstack([X_test, np.ones((X_test.shape[0], 1))])\n",
    "    X_dev = np.hstack([X_dev, np.ones((X_dev.shape[0], 1))])\n",
    "    \n",
    "    return X_train, y_train, X_val, y_val, X_test, y_test, X_dev, y_dev\n",
    "\n",
    "\n",
    "# Invoke the above function to get our data.\n",
    "X_train, y_train, X_val, y_val, X_test, y_test, X_dev, y_dev = get_CIFAR10_data()\n",
    "print('Train data shape: ', X_train.shape)\n",
    "print('Train labels shape: ', y_train.shape)\n",
    "print('Validation data shape: ', X_val.shape)\n",
    "print('Validation labels shape: ', y_val.shape)\n",
    "print('Test data shape: ', X_test.shape)\n",
    "print('Test labels shape: ', y_test.shape)\n",
    "print('dev data shape: ', X_dev.shape)\n",
    "print('dev labels shape: ', y_dev.shape)"
   ]
  },
  {
   "cell_type": "markdown",
   "metadata": {},
   "source": [
    "## Softmax Classifier\n",
    "\n",
    "Your code for this section will all be written inside **cs231n/classifiers/softmax.py**. \n"
   ]
  },
  {
   "cell_type": "code",
   "execution_count": 3,
   "metadata": {
    "collapsed": false
   },
   "outputs": [
    {
     "name": "stdout",
     "output_type": "stream",
     "text": [
      "loss: 2.313648\n",
      "sanity check: 2.302585\n"
     ]
    }
   ],
   "source": [
    "# First implement the naive softmax loss function with nested loops.\n",
    "# Open the file cs231n/classifiers/softmax.py and implement the\n",
    "# softmax_loss_naive function.\n",
    "\n",
    "from cs231n.classifiers.softmax import softmax_loss_naive\n",
    "import time\n",
    "\n",
    "# Generate a random softmax weight matrix and use it to compute the loss.\n",
    "W = np.random.randn(3073, 10) * 0.0001\n",
    "loss, grad = softmax_loss_naive(W, X_dev, y_dev, 0.0)\n",
    "\n",
    "# As a rough sanity check, our loss should be something close to -log(0.1).\n",
    "print('loss: %f' % loss)\n",
    "print('sanity check: %f' % (-np.log(0.1)))"
   ]
  },
  {
   "cell_type": "markdown",
   "metadata": {},
   "source": [
    "## Inline Question 1:\n",
    "Why do we expect our loss to be close to -log(0.1)? Explain briefly.**\n",
    "\n",
    "**Your answer:** Initially when weights are initially to small random values, the class scores of every training example will be almost equal and hence the normalized probabilty = 1/k (k is #classes).\n"
   ]
  },
  {
   "cell_type": "code",
   "execution_count": 4,
   "metadata": {
    "collapsed": false
   },
   "outputs": [
    {
     "name": "stdout",
     "output_type": "stream",
     "text": [
      "numerical: -1.399519 analytic: -1.399520, relative error: 6.068345e-08\n",
      "numerical: -0.457568 analytic: -0.457568, relative error: 1.407803e-08\n",
      "numerical: 2.118969 analytic: 2.118969, relative error: 3.531065e-08\n",
      "numerical: -1.337365 analytic: -1.337365, relative error: 1.769003e-08\n",
      "numerical: 1.805840 analytic: 1.805840, relative error: 1.574975e-08\n",
      "numerical: 2.437299 analytic: 2.437299, relative error: 1.814989e-08\n",
      "numerical: 4.274503 analytic: 4.274503, relative error: 8.236981e-09\n",
      "numerical: -1.377800 analytic: -1.377800, relative error: 5.836306e-08\n",
      "numerical: 0.069718 analytic: 0.069718, relative error: 8.472714e-08\n",
      "numerical: -1.574770 analytic: -1.574770, relative error: 1.532974e-08\n",
      "numerical: -1.833386 analytic: -1.833386, relative error: 1.072357e-10\n",
      "numerical: 1.100097 analytic: 1.100097, relative error: 3.480675e-08\n",
      "numerical: 0.632119 analytic: 0.632119, relative error: 5.682205e-08\n",
      "numerical: 1.798635 analytic: 1.798635, relative error: 4.652834e-08\n",
      "numerical: 1.530474 analytic: 1.530474, relative error: 5.611870e-09\n",
      "numerical: -0.951831 analytic: -0.951832, relative error: 9.944511e-08\n",
      "numerical: 0.527766 analytic: 0.527765, relative error: 5.978980e-08\n",
      "numerical: 2.921358 analytic: 2.921358, relative error: 2.444951e-08\n",
      "numerical: 1.471597 analytic: 1.471597, relative error: 2.842617e-08\n",
      "numerical: -3.574113 analytic: -3.574113, relative error: 3.526834e-10\n"
     ]
    }
   ],
   "source": [
    "# Complete the implementation of softmax_loss_naive and implement a (naive)\n",
    "# version of the gradient that uses nested loops.\n",
    "loss, grad = softmax_loss_naive(W, X_dev, y_dev, 0.0)\n",
    "\n",
    "# As we did for the SVM, use numeric gradient checking as a debugging tool.\n",
    "# The numeric gradient should be close to the analytic gradient.\n",
    "from cs231n.gradient_check import grad_check_sparse\n",
    "f = lambda w: softmax_loss_naive(w, X_dev, y_dev, 0.0)[0]\n",
    "grad_numerical = grad_check_sparse(f, W, grad, 10)\n",
    "\n",
    "# similar to SVM case, do another gradient check with regularization\n",
    "loss, grad = softmax_loss_naive(W, X_dev, y_dev, 5e1)\n",
    "f = lambda w: softmax_loss_naive(w, X_dev, y_dev, 5e1)[0]\n",
    "grad_numerical = grad_check_sparse(f, W, grad, 10)"
   ]
  },
  {
   "cell_type": "code",
   "execution_count": 5,
   "metadata": {
    "collapsed": false
   },
   "outputs": [
    {
     "name": "stdout",
     "output_type": "stream",
     "text": [
      "naive loss: 2.313648e+00 computed in 0.092304s\n",
      "vectorized loss: 2.313648e+00 computed in 0.004469s\n",
      "Loss difference: 0.000000\n",
      "Gradient difference: 0.000000\n"
     ]
    }
   ],
   "source": [
    "# Now that we have a naive implementation of the softmax loss function and its gradient,\n",
    "# implement a vectorized version in softmax_loss_vectorized.\n",
    "# The two versions should compute the same results, but the vectorized version should be\n",
    "# much faster.\n",
    "tic = time.time()\n",
    "loss_naive, grad_naive = softmax_loss_naive(W, X_dev, y_dev, 0.000005)\n",
    "toc = time.time()\n",
    "print('naive loss: %e computed in %fs' % (loss_naive, toc - tic))\n",
    "\n",
    "from cs231n.classifiers.softmax import softmax_loss_vectorized\n",
    "tic = time.time()\n",
    "loss_vectorized, grad_vectorized = softmax_loss_vectorized(W, X_dev, y_dev, 0.000005)\n",
    "toc = time.time()\n",
    "print('vectorized loss: %e computed in %fs' % (loss_vectorized, toc - tic))\n",
    "\n",
    "# As we did for the SVM, we use the Frobenius norm to compare the two versions\n",
    "# of the gradient.\n",
    "grad_difference = np.linalg.norm(grad_naive - grad_vectorized, ord='fro')\n",
    "print('Loss difference: %f' % np.abs(loss_naive - loss_vectorized))\n",
    "print('Gradient difference: %f' % grad_difference)"
   ]
  },
  {
   "cell_type": "code",
   "execution_count": 6,
   "metadata": {
    "collapsed": false
   },
   "outputs": [
    {
     "name": "stdout",
     "output_type": "stream",
     "text": [
      "idx1= 0  done.\n",
      "idx1= 1  done.\n",
      "idx1= 2  done.\n",
      "idx1= 3  done.\n",
      "idx1= 4  done.\n",
      "idx1= 5  done.\n",
      "idx1= 6  done.\n",
      "idx1= 7  done.\n",
      "idx1= 8  done.\n",
      "idx1= 9  done.\n",
      "Best validation_accuracy= 0.399\n",
      "lr 1.000000e-07 reg 1.000000e+03 train accuracy: 0.292612 val accuracy: 0.308000\n",
      "lr 1.000000e-07 reg 2.576301e+03 train accuracy: 0.323347 val accuracy: 0.310000\n",
      "lr 1.000000e-07 reg 6.637329e+03 train accuracy: 0.356551 val accuracy: 0.381000\n",
      "lr 1.000000e-07 reg 1.709976e+04 train accuracy: 0.338633 val accuracy: 0.355000\n",
      "lr 1.000000e-07 reg 4.405413e+04 train accuracy: 0.311755 val accuracy: 0.332000\n",
      "lr 1.000000e-07 reg 1.134967e+05 train accuracy: 0.275429 val accuracy: 0.290000\n",
      "lr 1.000000e-07 reg 2.924018e+05 train accuracy: 0.273429 val accuracy: 0.281000\n",
      "lr 1.000000e-07 reg 7.533151e+05 train accuracy: 0.239163 val accuracy: 0.248000\n",
      "lr 1.000000e-07 reg 1.940767e+06 train accuracy: 0.252592 val accuracy: 0.272000\n",
      "lr 1.000000e-07 reg 5.000000e+06 train accuracy: 0.202449 val accuracy: 0.196000\n",
      "lr 2.782559e-07 reg 1.000000e+03 train accuracy: 0.370367 val accuracy: 0.373000\n",
      "lr 2.782559e-07 reg 2.576301e+03 train accuracy: 0.386327 val accuracy: 0.391000\n",
      "lr 2.782559e-07 reg 6.637329e+03 train accuracy: 0.365653 val accuracy: 0.386000\n",
      "lr 2.782559e-07 reg 1.709976e+04 train accuracy: 0.335388 val accuracy: 0.356000\n",
      "lr 2.782559e-07 reg 4.405413e+04 train accuracy: 0.307571 val accuracy: 0.324000\n",
      "lr 2.782559e-07 reg 1.134967e+05 train accuracy: 0.274367 val accuracy: 0.289000\n",
      "lr 2.782559e-07 reg 2.924018e+05 train accuracy: 0.258612 val accuracy: 0.276000\n",
      "lr 2.782559e-07 reg 7.533151e+05 train accuracy: 0.241347 val accuracy: 0.250000\n",
      "lr 2.782559e-07 reg 1.940767e+06 train accuracy: 0.224000 val accuracy: 0.241000\n",
      "lr 2.782559e-07 reg 5.000000e+06 train accuracy: 0.100265 val accuracy: 0.087000\n",
      "lr 7.742637e-07 reg 1.000000e+03 train accuracy: 0.401122 val accuracy: 0.393000\n",
      "lr 7.742637e-07 reg 2.576301e+03 train accuracy: 0.382939 val accuracy: 0.377000\n",
      "lr 7.742637e-07 reg 6.637329e+03 train accuracy: 0.362347 val accuracy: 0.369000\n",
      "lr 7.742637e-07 reg 1.709976e+04 train accuracy: 0.324633 val accuracy: 0.346000\n",
      "lr 7.742637e-07 reg 4.405413e+04 train accuracy: 0.306816 val accuracy: 0.313000\n",
      "lr 7.742637e-07 reg 1.134967e+05 train accuracy: 0.278265 val accuracy: 0.289000\n",
      "lr 7.742637e-07 reg 2.924018e+05 train accuracy: 0.253041 val accuracy: 0.273000\n",
      "lr 7.742637e-07 reg 7.533151e+05 train accuracy: 0.206592 val accuracy: 0.222000\n",
      "lr 7.742637e-07 reg 1.940767e+06 train accuracy: 0.100265 val accuracy: 0.087000\n",
      "lr 7.742637e-07 reg 5.000000e+06 train accuracy: 0.100265 val accuracy: 0.087000\n",
      "lr 2.154435e-06 reg 1.000000e+03 train accuracy: 0.387184 val accuracy: 0.399000\n",
      "lr 2.154435e-06 reg 2.576301e+03 train accuracy: 0.370224 val accuracy: 0.375000\n",
      "lr 2.154435e-06 reg 6.637329e+03 train accuracy: 0.343653 val accuracy: 0.363000\n",
      "lr 2.154435e-06 reg 1.709976e+04 train accuracy: 0.309265 val accuracy: 0.316000\n",
      "lr 2.154435e-06 reg 4.405413e+04 train accuracy: 0.298510 val accuracy: 0.319000\n",
      "lr 2.154435e-06 reg 1.134967e+05 train accuracy: 0.269143 val accuracy: 0.282000\n",
      "lr 2.154435e-06 reg 2.924018e+05 train accuracy: 0.142184 val accuracy: 0.136000\n",
      "lr 2.154435e-06 reg 7.533151e+05 train accuracy: 0.100265 val accuracy: 0.087000\n",
      "lr 2.154435e-06 reg 1.940767e+06 train accuracy: 0.100265 val accuracy: 0.087000\n",
      "lr 2.154435e-06 reg 5.000000e+06 train accuracy: 0.100265 val accuracy: 0.087000\n",
      "lr 5.994843e-06 reg 1.000000e+03 train accuracy: 0.336082 val accuracy: 0.327000\n",
      "lr 5.994843e-06 reg 2.576301e+03 train accuracy: 0.268878 val accuracy: 0.279000\n",
      "lr 5.994843e-06 reg 6.637329e+03 train accuracy: 0.249041 val accuracy: 0.271000\n",
      "lr 5.994843e-06 reg 1.709976e+04 train accuracy: 0.190918 val accuracy: 0.212000\n",
      "lr 5.994843e-06 reg 4.405413e+04 train accuracy: 0.131898 val accuracy: 0.124000\n",
      "lr 5.994843e-06 reg 1.134967e+05 train accuracy: 0.096918 val accuracy: 0.090000\n",
      "lr 5.994843e-06 reg 2.924018e+05 train accuracy: 0.100265 val accuracy: 0.087000\n",
      "lr 5.994843e-06 reg 7.533151e+05 train accuracy: 0.100265 val accuracy: 0.087000\n",
      "lr 5.994843e-06 reg 1.940767e+06 train accuracy: 0.100265 val accuracy: 0.087000\n",
      "lr 5.994843e-06 reg 5.000000e+06 train accuracy: 0.100265 val accuracy: 0.087000\n",
      "lr 1.668101e-05 reg 1.000000e+03 train accuracy: 0.259327 val accuracy: 0.264000\n",
      "lr 1.668101e-05 reg 2.576301e+03 train accuracy: 0.203694 val accuracy: 0.227000\n",
      "lr 1.668101e-05 reg 6.637329e+03 train accuracy: 0.170367 val accuracy: 0.193000\n",
      "lr 1.668101e-05 reg 1.709976e+04 train accuracy: 0.090918 val accuracy: 0.083000\n",
      "lr 1.668101e-05 reg 4.405413e+04 train accuracy: 0.100245 val accuracy: 0.098000\n",
      "lr 1.668101e-05 reg 1.134967e+05 train accuracy: 0.100265 val accuracy: 0.087000\n",
      "lr 1.668101e-05 reg 2.924018e+05 train accuracy: 0.100265 val accuracy: 0.087000\n",
      "lr 1.668101e-05 reg 7.533151e+05 train accuracy: 0.100265 val accuracy: 0.087000\n",
      "lr 1.668101e-05 reg 1.940767e+06 train accuracy: 0.100265 val accuracy: 0.087000\n",
      "lr 1.668101e-05 reg 5.000000e+06 train accuracy: 0.100265 val accuracy: 0.087000\n",
      "lr 4.641589e-05 reg 1.000000e+03 train accuracy: 0.229204 val accuracy: 0.227000\n",
      "lr 4.641589e-05 reg 2.576301e+03 train accuracy: 0.158224 val accuracy: 0.175000\n",
      "lr 4.641589e-05 reg 6.637329e+03 train accuracy: 0.147571 val accuracy: 0.141000\n",
      "lr 4.641589e-05 reg 1.709976e+04 train accuracy: 0.070184 val accuracy: 0.086000\n",
      "lr 4.641589e-05 reg 4.405413e+04 train accuracy: 0.100265 val accuracy: 0.087000\n",
      "lr 4.641589e-05 reg 1.134967e+05 train accuracy: 0.100265 val accuracy: 0.087000\n",
      "lr 4.641589e-05 reg 2.924018e+05 train accuracy: 0.100265 val accuracy: 0.087000\n",
      "lr 4.641589e-05 reg 7.533151e+05 train accuracy: 0.100265 val accuracy: 0.087000\n",
      "lr 4.641589e-05 reg 1.940767e+06 train accuracy: 0.100265 val accuracy: 0.087000\n",
      "lr 4.641589e-05 reg 5.000000e+06 train accuracy: 0.100265 val accuracy: 0.087000\n",
      "lr 1.291550e-04 reg 1.000000e+03 train accuracy: 0.167163 val accuracy: 0.165000\n",
      "lr 1.291550e-04 reg 2.576301e+03 train accuracy: 0.100265 val accuracy: 0.087000\n",
      "lr 1.291550e-04 reg 6.637329e+03 train accuracy: 0.100265 val accuracy: 0.087000\n",
      "lr 1.291550e-04 reg 1.709976e+04 train accuracy: 0.100265 val accuracy: 0.087000\n",
      "lr 1.291550e-04 reg 4.405413e+04 train accuracy: 0.100265 val accuracy: 0.087000\n",
      "lr 1.291550e-04 reg 1.134967e+05 train accuracy: 0.100265 val accuracy: 0.087000\n",
      "lr 1.291550e-04 reg 2.924018e+05 train accuracy: 0.100265 val accuracy: 0.087000\n",
      "lr 1.291550e-04 reg 7.533151e+05 train accuracy: 0.100265 val accuracy: 0.087000\n",
      "lr 1.291550e-04 reg 1.940767e+06 train accuracy: 0.100265 val accuracy: 0.087000\n",
      "lr 1.291550e-04 reg 5.000000e+06 train accuracy: 0.100265 val accuracy: 0.087000\n",
      "lr 3.593814e-04 reg 1.000000e+03 train accuracy: 0.100265 val accuracy: 0.087000\n",
      "lr 3.593814e-04 reg 2.576301e+03 train accuracy: 0.100265 val accuracy: 0.087000\n",
      "lr 3.593814e-04 reg 6.637329e+03 train accuracy: 0.100265 val accuracy: 0.087000\n",
      "lr 3.593814e-04 reg 1.709976e+04 train accuracy: 0.100265 val accuracy: 0.087000\n",
      "lr 3.593814e-04 reg 4.405413e+04 train accuracy: 0.100265 val accuracy: 0.087000\n",
      "lr 3.593814e-04 reg 1.134967e+05 train accuracy: 0.100265 val accuracy: 0.087000\n",
      "lr 3.593814e-04 reg 2.924018e+05 train accuracy: 0.100265 val accuracy: 0.087000\n",
      "lr 3.593814e-04 reg 7.533151e+05 train accuracy: 0.100265 val accuracy: 0.087000\n",
      "lr 3.593814e-04 reg 1.940767e+06 train accuracy: 0.100265 val accuracy: 0.087000\n",
      "lr 3.593814e-04 reg 5.000000e+06 train accuracy: 0.100265 val accuracy: 0.087000\n",
      "lr 1.000000e-03 reg 1.000000e+03 train accuracy: 0.100265 val accuracy: 0.087000\n",
      "lr 1.000000e-03 reg 2.576301e+03 train accuracy: 0.100265 val accuracy: 0.087000\n",
      "lr 1.000000e-03 reg 6.637329e+03 train accuracy: 0.100265 val accuracy: 0.087000\n",
      "lr 1.000000e-03 reg 1.709976e+04 train accuracy: 0.100265 val accuracy: 0.087000\n",
      "lr 1.000000e-03 reg 4.405413e+04 train accuracy: 0.100265 val accuracy: 0.087000\n",
      "lr 1.000000e-03 reg 1.134967e+05 train accuracy: 0.100265 val accuracy: 0.087000\n",
      "lr 1.000000e-03 reg 2.924018e+05 train accuracy: 0.100265 val accuracy: 0.087000\n",
      "lr 1.000000e-03 reg 7.533151e+05 train accuracy: 0.100265 val accuracy: 0.087000\n",
      "lr 1.000000e-03 reg 1.940767e+06 train accuracy: 0.100265 val accuracy: 0.087000\n",
      "lr 1.000000e-03 reg 5.000000e+06 train accuracy: 0.100265 val accuracy: 0.087000\n",
      "best validation accuracy achieved during cross-validation: 0.398000\n"
     ]
    },
    {
     "name": "stderr",
     "output_type": "stream",
     "text": [
      "/Users/chippada.bhargav/Desktop/bhargavchippada/courses/cs231n/assignment1/cs231n/classifiers/softmax.py:66: RuntimeWarning: overflow encountered in power\n",
      "  unnormalized_probs = np.e**np.matmul(X,W)\n",
      "/Users/chippada.bhargav/Desktop/bhargavchippada/courses/cs231n/assignment1/cs231n/classifiers/softmax.py:68: RuntimeWarning: invalid value encountered in true_divide\n",
      "  normalized_probs = unnormalized_probs/sum_unnormalized_probs\n",
      "/Users/chippada.bhargav/Desktop/bhargavchippada/courses/cs231n/assignment1/cs231n/classifiers/softmax.py:69: RuntimeWarning: divide by zero encountered in log\n",
      "  loss = np.sum(-1*np.log(np.choose(y, normalized_probs.T)))/num_train + reg*np.sum(W*W)\n"
     ]
    }
   ],
   "source": [
    "# Use the validation set to tune hyperparameters (regularization strength and\n",
    "# learning rate). You should experiment with different ranges for the learning\n",
    "# rates and regularization strengths; if you are careful you should be able to\n",
    "# get a classification accuracy of over 0.35 on the validation set.\n",
    "from cs231n.classifiers import Softmax\n",
    "\n",
    "learning_rates = [1e-7, 1e-3]\n",
    "regularization_strengths = [1e3, 5e6]\n",
    "\n",
    "learning_rates_samples = np.logspace(np.log10(learning_rates[0]), np.log10(learning_rates[1]), num=10)\n",
    "regularization_strengths_samples = np.logspace(np.log10(regularization_strengths[0]), np.log10(regularization_strengths[1]), num=10)\n",
    "\n",
    "results = {}\n",
    "best_val = -1\n",
    "best_softmax = None\n",
    "best_lr = None\n",
    "best_reg = None\n",
    "for idx1, learning_rate in enumerate(learning_rates_samples):\n",
    "    for regularization_strength in regularization_strengths_samples:\n",
    "        softmax = Softmax()\n",
    "        loss_hist = softmax.train(X_train, y_train, learning_rate, regularization_strength,\n",
    "                              num_iters=2000, verbose=False)\n",
    "        y_train_pred = softmax.predict(X_train)\n",
    "        y_val_pred = softmax.predict(X_val)\n",
    "        training_accuracy = np.mean(y_train == y_train_pred)\n",
    "        validation_accuracy = np.mean(y_val == y_val_pred)\n",
    "        results[(np.asscalar(learning_rate),np.asscalar(regularization_strength))] = [training_accuracy, validation_accuracy]\n",
    "        if validation_accuracy > best_val:\n",
    "            best_val = validation_accuracy\n",
    "            best_softmax = softmax\n",
    "            best_lr = learning_rate\n",
    "            best_reg = regularization_strength\n",
    "    print(\"idx1=\",idx1,\" done.\")\n",
    "\n",
    "print(\"Best validation_accuracy=\",best_val)\n",
    "################################################################################\n",
    "# TODO:                                                                        #\n",
    "# Use the validation set to set the learning rate and regularization strength. #\n",
    "# This should be identical to the validation that you did for the SVM; save    #\n",
    "# the best trained softmax classifer in best_softmax.                          #\n",
    "################################################################################\n",
    "pass\n",
    "################################################################################\n",
    "#                              END OF YOUR CODE                                #\n",
    "################################################################################\n",
    "    \n",
    "# Print out results.\n",
    "for lr, reg in sorted(results):\n",
    "    train_accuracy, val_accuracy = results[(lr, reg)]\n",
    "    print('lr %e reg %e train accuracy: %f val accuracy: %f' % (\n",
    "                lr, reg, train_accuracy, val_accuracy))\n",
    "\n",
    "best_softmax.train(X_train, y_train, best_lr, best_reg,\n",
    "                              num_iters=20000, verbose=False)\n",
    "y_val_pred = best_softmax.predict(X_val)\n",
    "best_val = np.mean(y_val == y_val_pred)\n",
    "print('best validation accuracy achieved during cross-validation: %f' % best_val)"
   ]
  },
  {
   "cell_type": "code",
   "execution_count": 7,
   "metadata": {
    "collapsed": false
   },
   "outputs": [
    {
     "name": "stdout",
     "output_type": "stream",
     "text": [
      "softmax on raw pixels final test set accuracy: 0.375000\n"
     ]
    }
   ],
   "source": [
    "# evaluate on test set\n",
    "# Evaluate the best softmax on test set\n",
    "y_test_pred = best_softmax.predict(X_test)\n",
    "test_accuracy = np.mean(y_test == y_test_pred)\n",
    "print('softmax on raw pixels final test set accuracy: %f' % (test_accuracy, ))"
   ]
  },
  {
   "cell_type": "code",
   "execution_count": 8,
   "metadata": {
    "collapsed": false,
    "scrolled": true
   },
   "outputs": [
    {
     "data": {
      "image/png": "[encoded data removed]",
      "text/plain": [
       "<matplotlib.figure.Figure at 0x10c20bb70>"
      ]
     },
     "metadata": {},
     "output_type": "display_data"
    }
   ],
   "source": [
    "# Visualize the learned weights for each class\n",
    "w = best_softmax.W[:-1,:] # strip out the bias\n",
    "w = w.reshape(32, 32, 3, 10)\n",
    "\n",
    "w_min, w_max = np.min(w), np.max(w)\n",
    "\n",
    "classes = ['plane', 'car', 'bird', 'cat', 'deer', 'dog', 'frog', 'horse', 'ship', 'truck']\n",
    "for i in range(10):\n",
    "    plt.subplot(2, 5, i + 1)\n",
    "    \n",
    "    # Rescale the weights to be between 0 and 255\n",
    "    wimg = 255.0 * (w[:, :, :, i].squeeze() - w_min) / (w_max - w_min)\n",
    "    plt.imshow(wimg.astype('uint8'))\n",
    "    plt.axis('off')\n",
    "    plt.title(classes[i])"
   ]
  }
 ],
 "metadata": {
  "kernelspec": {
   "display_name": "Python 3",
   "language": "python",
   "name": "python3"
  },
  "language_info": {
   "codemirror_mode": {
    "name": "ipython",
    "version": 3
   },
   "file_extension": ".py",
   "mimetype": "text/x-python",
   "name": "python",
   "nbconvert_exporter": "python",
   "pygments_lexer": "ipython3",
   "version": "3.6.1"
  }
 },
 "nbformat": 4,
 "nbformat_minor": 0
}
